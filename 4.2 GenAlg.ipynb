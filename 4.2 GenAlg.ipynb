{
 "cells": [
  {
   "cell_type": "code",
   "execution_count": 1,
   "metadata": {},
   "outputs": [],
   "source": [
    "from pyeasyga import pyeasyga\n",
    "import random"
   ]
  },
  {
   "cell_type": "code",
   "execution_count": 2,
   "metadata": {},
   "outputs": [
    {
     "name": "stdout",
     "output_type": "stream",
     "text": [
      "[(1094.0, 0.4, 339.0), (810.0, 1.1, 258.0), (1698.0, 0.5, 106.0), (1283.0, 0.5, 189.0), (924.0, 0.7, 356.0), (456.0, 0.8, 103.0), (867.0, 0.6, 195.0), (1350.0, 0.7, 123.0), (1107.0, 1.1, 152.0), (674.0, 1.0, 329.0), (543.0, 0.8, 335.0), (120.0, 1.1, 323.0), (1279.0, 0.8, 349.0), (1083.0, 0.9, 352.0), (572.0, 1.2, 335.0), (209.0, 0.7, 351.0), (471.0, 0.5, 198.0), (1097.0, 0.9, 169.0), (1286.0, 0.5, 353.0), (366.0, 1.1, 136.0), (1240.0, 0.6, 304.0), (168.0, 1.0, 176.0), (1114.0, 0.5, 387.0), (852.0, 0.9, 205.0), (267.0, 0.5, 140.0), (1390.0, 0.5, 195.0), (1207.0, 0.9, 241.0), (468.0, 0.5, 343.0), (601.0, 0.9, 285.0), (621.0, 1.0, 124.0)]\n",
      "13000\n",
      "12\n"
     ]
    }
   ],
   "source": [
    "# setup data\n",
    "f = open('8.txt')\n",
    "data = []\n",
    "lines=f.read()\n",
    "lines=lines.split('\\n')\n",
    "maxWeight=0\n",
    "maxVolume=0\n",
    "for line in lines:\n",
    "    lines = line.split(' ')\n",
    "    if(len(lines)==2):\n",
    "        maxWeight=int(lines[0])\n",
    "        maxVolume=int(lines[1])\n",
    "        d= (float(lines[0]),float(lines[1]))\n",
    "    else:\n",
    "        d= (float(lines[0]),float(lines[1]),float(lines[2]))\n",
    "    \n",
    "    data.append(d)\n",
    "data=data[1:]\n",
    "print(data)\n",
    "print(maxWeight)\n",
    "print(maxVolume) "
   ]
  },
  {
   "cell_type": "code",
   "execution_count": 3,
   "metadata": {},
   "outputs": [
    {
     "name": "stdout",
     "output_type": "stream",
     "text": [
      "30\n"
     ]
    }
   ],
   "source": [
    "print(len(data) )\n"
   ]
  },
  {
   "cell_type": "code",
   "execution_count": 4,
   "metadata": {},
   "outputs": [],
   "source": [
    "## создание генома через жааааааадный алгоритм (беру от жизни все!!) \n",
    "def createGenome(data,population):\n",
    "    sizeGenome=len(data)\n",
    "    anger=[]\n",
    "    for item in data:\n",
    "        anger.append(item[2]/item[0])\n",
    "    sumGluttony=[]\n",
    "    copyDataPride=data\n",
    "    for item1 in data:\n",
    "        maxPr=0\n",
    "        indMax=-1\n",
    "        for i in range(0,len(anger)):\n",
    "            if(maxPr<anger[i]):\n",
    "                maxPr=anger[i]\n",
    "                indMax=i\n",
    "        sumGluttony.append(int(indMax))\n",
    "        anger[indMax]=-1\n",
    "    genomesind=[]\n",
    "    rezervcopy=sumGluttony.copy()\n",
    "    for individual in range(0,population):\n",
    "        genome=[0 ]* sizeGenome\n",
    "        ran=random.randint(0,sizeGenome-1) \n",
    "        weight = data[ran][0] \n",
    "        volume = data[ran][1]\n",
    "        genome[ran]=0\n",
    "        sumGluttony=rezervcopy.copy() \n",
    "        del sumGluttony[ran]\n",
    "        for item in sumGluttony: \n",
    "            weight += data[item][0]\n",
    "            volume += data[item][1]\n",
    "            if weight > maxWeight or volume > maxVolume:\n",
    "                break\n",
    "            else:\n",
    "                genome[item]=1\n",
    "        genomesind.append(genome)\n",
    "    return genomesind"
   ]
  },
  {
   "cell_type": "code",
   "execution_count": 5,
   "metadata": {},
   "outputs": [],
   "source": [
    "# define a fitness function\n",
    "def fitness(individual, data):\n",
    "    weight, volume, price = 0, 0, 0\n",
    "    for (selected, item) in zip(individual, data):\n",
    "        if selected:\n",
    "            weight += item[0]\n",
    "            volume += item[1]\n",
    "            price += item[2]\n",
    "    if weight > maxWeight or volume > maxVolume:\n",
    "        price = 0\n",
    "    return price "
   ]
  },
  {
   "cell_type": "code",
   "execution_count": 6,
   "metadata": {},
   "outputs": [],
   "source": [
    "##Посчитаем сходимость через фитнес функцию и выберем родителя\n",
    "def choiceParent(data,genomesind):\n",
    "    convergence=[]\n",
    "    i=0\n",
    "    for genome in genomesind:\n",
    "        convergence.append((fitness(genome,data),i))\n",
    "        i=i+1\n",
    "    convergence=sorted(convergence, key=lambda convergence: convergence[0] ,reverse=True)\n",
    "    Parents=[]\n",
    "    for i in range(0,int(len(genomesind)/2)):\n",
    "        sumRuletca=0\n",
    "        FirstParent=0\n",
    "        SecondParent=0\n",
    "        for item in convergence:\n",
    "            sumRuletca+=item[0]\n",
    "        ran=random.randint(0,sumRuletca-1)\n",
    "        choice=0\n",
    "        j=0\n",
    "        for item in convergence:\n",
    "            choice+=item[0]\n",
    "            if(ran<=choice):\n",
    "                FirstParent=item[1]\n",
    "                del convergence[j]\n",
    "                break\n",
    "            j+=1\n",
    "        sumRuletca=0    \n",
    "        for item in convergence:\n",
    "            sumRuletca+=item[0]\n",
    "        ran=random.randint(0,sumRuletca)\n",
    "        choice=0\n",
    "        j=0\n",
    "        for item in convergence:\n",
    "            choice+=item[0]\n",
    "            if(ran<=choice):\n",
    "                SecondParent=item[1]\n",
    "                del convergence[j]\n",
    "                break\n",
    "            j+=1\n",
    "        Parents.append((FirstParent,SecondParent))\n",
    "\n",
    "    return Parents"
   ]
  },
  {
   "cell_type": "code",
   "execution_count": 7,
   "metadata": {},
   "outputs": [],
   "source": [
    "##функция скрещивания\n",
    "def crossing_over(Parent,data,genomesind,n):\n",
    "    new_gen=[]\n",
    "    points=[]\n",
    "    for i in range(0,n):\n",
    "        fl=True\n",
    "        while(fl):\n",
    "            fl=False\n",
    "            ran=random.randint(0, len(data)-1)\n",
    "        \n",
    "            for point in points:\n",
    "                if(point==ran):\n",
    "                    fl=True\n",
    "        points.append(ran)\n",
    "    points.sort()\n",
    "    for family in Parent:\n",
    "        firstChild=genomesind[family[0]][:points[0]]\n",
    "        secondChild=genomesind[family[1]][:points[0]]\n",
    "        for i in range(0,n):\n",
    "            if(i%2==1):\n",
    "                if(i==n-1):\n",
    "                    temp=genomesind[family[0]][points[i]:]\n",
    "                    firstChild+=genomesind[family[1]][points[i]:]\n",
    "                    secondChild+=temp\n",
    "                else:\n",
    "                    temp=genomesind[family[0]][points[i]:points[i+1]]\n",
    "                    firstChild+=genomesind[family[1]][points[i]:points[i+1]]\n",
    "                    secondChild+=temp\n",
    "            else:\n",
    "                if(i==n-1):\n",
    "                    firstChild+=genomesind[family[0]][points[i]:]\n",
    "                    secondChild+=genomesind[family[1]][points[i]:]\n",
    "                else: \n",
    "                    firstChild+=genomesind[family[0]][points[i]:points[i+1]]\n",
    "                    secondChild+=genomesind[family[1]][points[i]:points[i+1]]\n",
    "        new_gen.append(firstChild)\n",
    "        new_gen.append(secondChild)\n",
    "    return new_gen\n"
   ]
  },
  {
   "cell_type": "code",
   "execution_count": 8,
   "metadata": {},
   "outputs": [],
   "source": [
    "def chanceMutation(genomesind,percent, count):\n",
    "    new_genomesind=[]\n",
    "    leng=int(percent*len(genomesind))\n",
    "    for i in range(0,leng):\n",
    "        ran=random.randint(0, len(genomesind)-1)\n",
    "        changeGen=genomesind[ran]\n",
    "        points=[]\n",
    "        for j in range(0,count):\n",
    "                fl=True\n",
    "                while(fl):\n",
    "                    fl=False\n",
    "                    ran=random.randint(0, len(data)-1)\n",
    "\n",
    "                    for point in points:\n",
    "                        if(point==ran):\n",
    "                            fl=True\n",
    "                points.append(ran)\n",
    "        for point in points:\n",
    "            \n",
    "            if(changeGen[point]==0):\n",
    "                changeGen[point]=1\n",
    "            else:\n",
    "                changeGen[point]=0\n",
    "        del genomesind[ran]\n",
    "        new_genomesind.append(changeGen)\n",
    "    return new_genomesind+genomesind\n",
    "            "
   ]
  },
  {
   "cell_type": "code",
   "execution_count": 9,
   "metadata": {},
   "outputs": [],
   "source": [
    " def replacement(data,old_genomesind,new__genomesind,percent):\n",
    "    i=0\n",
    "    OldFit=[]\n",
    "    for genome in old_genomesind:\n",
    "        OldFit.append((fitness(genome,data),i))\n",
    "        i=i+1\n",
    "    OldFit=sorted(OldFit, key=lambda OldFit: OldFit[0] ,reverse=True)\n",
    "    i=0\n",
    "    NewFit=[]\n",
    "    for genome in new__genomesind:\n",
    "        NewFit.append((fitness(genome,data),i))\n",
    "        i=i+1\n",
    "    NewFit=sorted(NewFit, key=lambda NewFit: NewFit[0] ,reverse=True)\n",
    "    new_generation=[]\n",
    "    for i in range(0,len(OldFit)-int(percent*len(old_genomesind))):\n",
    "        new_generation.append(old_genomesind[OldFit[i][1]])\n",
    "    for i in range(0,int(percent*len(new__genomesind))):\n",
    "        new_generation.append(new__genomesind[NewFit[i][1]])\n",
    "    return new_generation\n",
    "    "
   ]
  },
  {
   "cell_type": "code",
   "execution_count": 10,
   "metadata": {},
   "outputs": [],
   "source": [
    "def minPrice(data):\n",
    "    minPr=9999999\n",
    "    for item in data:\n",
    "        if (minPr>item[2]):\n",
    "            minPr=item[2]\n",
    "    return minPr"
   ]
  },
  {
   "cell_type": "code",
   "execution_count": 11,
   "metadata": {},
   "outputs": [],
   "source": [
    "def result_evaluation(genomesind,data, itaration,maxIter,best,minPr):\n",
    "    if (itaration==maxIter):\n",
    "        return True\n",
    "    if (best_of_best(genomesind,data)-best<minPr and best_of_best(genomesind,data)-best>0):\n",
    "        return True\n",
    "    return False"
   ]
  },
  {
   "cell_type": "code",
   "execution_count": 12,
   "metadata": {},
   "outputs": [],
   "source": [
    "def best_of_best(genomesind,data):\n",
    "    ##i=0\n",
    "    ##resul=[]\n",
    "    summ=0\n",
    "    for genome in genomesind:\n",
    "        summ+=fitness(genome,data)\n",
    "    return summ\n",
    "        ##resul.append((fitness(genome,data),i))\n",
    "        ##i=i+1\n",
    "        ##resul=sorted(resul, key=lambda resul: resul[0] ,reverse=True)\n",
    "    #return resul[0][0]"
   ]
  },
  {
   "cell_type": "code",
   "execution_count": 13,
   "metadata": {},
   "outputs": [
    {
     "name": "stdout",
     "output_type": "stream",
     "text": [
      "5134.0\n",
      "38\n"
     ]
    }
   ],
   "source": [
    "## 0. Кодирование\n",
    "## Логика выбора генома проста - берет себе в рюкзак конкретную вешь это 1\n",
    "## если не берет, то 0\n",
    "## таким образом n размерный геном, где n - количество вещей\n",
    "population=200\n",
    "itaration=0\n",
    "maxIter=400\n",
    "minPr=minPrice(data)\n",
    "## 1. Начальная популяция\n",
    "## 1.2 Жааааааадный алгоритм (беру от жизни все!!) \n",
    "genomesind=createGenome(data,population)\n",
    "while True:\n",
    "    itaration+=1\n",
    "    best=best_of_best(genomesind,data)\n",
    "## 2. Отбор особей для скрещивания\n",
    "## 2.1 выбор каждой особи пропорционально приспособленности (рулетка)\n",
    "    Parent=choiceParent(data,genomesind)\n",
    "## 3. Скрещивание (кроссинговер) между выбранными особями\n",
    "## 3.1 многоточечный с 3мя точками \n",
    "    new_gen=crossing_over(Parent,data,genomesind,3)  \n",
    "## 4. Мутация\n",
    "## 4.2 случайное изменение 3х битов у 5% особей\n",
    "    genomesind=chanceMutation(genomesind,0.05, 3)\n",
    "    new_gen=chanceMutation(new_gen,0.05, 3)\n",
    "## 5. Формирование новой популяции\n",
    "## 5.1 замена 20% худших особей из предыдущего поколения на лучших потомков\n",
    "    genomesind = replacement(data,genomesind,new_gen,0.2)\n",
    "## 6. Оценка результата\n",
    "    res=result_evaluation(genomesind,data, itaration,maxIter,best,minPr)\n",
    "    if(res):\n",
    "        break\n",
    "        \n",
    "i=0\n",
    "resul=[]\n",
    "for genome in genomesind:\n",
    "    resul.append((fitness(genome,data),i))\n",
    "    i=i+1\n",
    "resul=sorted(resul, key=lambda resul: resul[0] ,reverse=True)\n",
    "print(resul[0][0])\n",
    "resul=(resul[0][0],genomesind[resul[0][1]])\n",
    "print(itaration)"
   ]
  },
  {
   "cell_type": "code",
   "execution_count": 14,
   "metadata": {},
   "outputs": [
    {
     "name": "stdout",
     "output_type": "stream",
     "text": [
      "(1094.0, 0.4, 339.0)\n",
      "(924.0, 0.7, 356.0)\n",
      "(867.0, 0.6, 195.0)\n",
      "(674.0, 1.0, 329.0)\n",
      "(543.0, 0.8, 335.0)\n",
      "(120.0, 1.1, 323.0)\n",
      "(1279.0, 0.8, 349.0)\n",
      "(1083.0, 0.9, 352.0)\n",
      "(572.0, 1.2, 335.0)\n",
      "(209.0, 0.7, 351.0)\n",
      "(471.0, 0.5, 198.0)\n",
      "(1286.0, 0.5, 353.0)\n",
      "(1240.0, 0.6, 304.0)\n",
      "(1114.0, 0.5, 387.0)\n",
      "(468.0, 0.5, 343.0)\n",
      "(601.0, 0.9, 285.0)\n"
     ]
    }
   ],
   "source": [
    "for i in range(0,len(resul[1])):\n",
    "    if(resul[1][i]==1):\n",
    "        print(data[i])"
   ]
  },
  {
   "cell_type": "code",
   "execution_count": null,
   "metadata": {},
   "outputs": [],
   "source": []
  }
 ],
 "metadata": {
  "kernelspec": {
   "display_name": "Python 3",
   "language": "python",
   "name": "python3"
  },
  "language_info": {
   "codemirror_mode": {
    "name": "ipython",
    "version": 3
   },
   "file_extension": ".py",
   "mimetype": "text/x-python",
   "name": "python",
   "nbconvert_exporter": "python",
   "pygments_lexer": "ipython3",
   "version": "3.8.3"
  }
 },
 "nbformat": 4,
 "nbformat_minor": 4
}
